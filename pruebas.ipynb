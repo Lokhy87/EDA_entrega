{
 "cells": [
  {
   "cell_type": "markdown",
   "metadata": {},
   "source": [
    "# WEB SCRAPPING"
   ]
  },
  {
   "cell_type": "code",
   "execution_count": 13,
   "metadata": {},
   "outputs": [],
   "source": [
    "import lxml\n",
    "import requests\n",
    "import pandas as pd\n",
    "from bs4 import BeautifulSoup"
   ]
  },
  {
   "cell_type": "code",
   "execution_count": 14,
   "metadata": {},
   "outputs": [],
   "source": [
    "url = 'https://www.atptour.com/es/rankings/singles?RankRange=1-5000&Region=all&DateWeek=1973-09-26'\n",
    "response = requests.get(url)\n",
    "soup = BeautifulSoup(response.text, 'html.parser')"
   ]
  },
  {
   "cell_type": "code",
   "execution_count": 20,
   "metadata": {},
   "outputs": [
    {
     "name": "stdout",
     "output_type": "stream",
     "text": [
      "No se encontró la tabla principal\n"
     ]
    }
   ],
   "source": [
    "# Buscar la tabla\n",
    "dicc = {\"1973\":[]}\n",
    "tabla_principal = soup.find(\"table\", class_=\"mega-table desktop-table non-live\")\n",
    "# Verificar si se encontró la tabla\n",
    "if tabla_principal:\n",
    "    # Si se encontró la tabla, buscar todas las filas dentro de ella con la clase \"lower-row\"\n",
    "    filas = tabla_principal.find_all('tr', class_=\"lower-row\")\n",
    "    # Hacer algo con las filas encontradas\n",
    "    for fila in filas:\n",
    "        nombre = fila.find('a').find('span', class_='lastName').text.strip()\n",
    "        print(nombre)\n",
    "        dicc[\"1973\"].append(nombre)\n",
    "else:\n",
    "    print(\"No se encontró la tabla principal\")"
   ]
  },
  {
   "cell_type": "code",
   "execution_count": 21,
   "metadata": {},
   "outputs": [
    {
     "data": {
      "text/plain": [
       "{'1973': []}"
      ]
     },
     "execution_count": 21,
     "metadata": {},
     "output_type": "execute_result"
    }
   ],
   "source": [
    "dicc"
   ]
  }
 ],
 "metadata": {
  "kernelspec": {
   "display_name": "base",
   "language": "python",
   "name": "python3"
  },
  "language_info": {
   "codemirror_mode": {
    "name": "ipython",
    "version": 3
   },
   "file_extension": ".py",
   "mimetype": "text/x-python",
   "name": "python",
   "nbconvert_exporter": "python",
   "pygments_lexer": "ipython3",
   "version": "3.11.5"
  }
 },
 "nbformat": 4,
 "nbformat_minor": 2
}
