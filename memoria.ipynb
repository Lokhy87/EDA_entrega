{
 "cells": [
  {
   "cell_type": "markdown",
   "metadata": {},
   "source": [
    "# MEMORIA PROYECTO EDA - CAMPEONES DEL GRAND SLAM"
   ]
  },
  {
   "cell_type": "markdown",
   "metadata": {},
   "source": [
    "#### El proyecto que presento consiste en un analisis para comprobar una serie de hipotesis basadas en los campeones masculinos de los 4 grandes torneos de la ATP, los Grand Slams, Australian Open, US Open, Roland Garros y Wimbledon "
   ]
  },
  {
   "cell_type": "markdown",
   "metadata": {},
   "source": [
    "##### Lo primero que lleve a cabo para encontrar los datos en los que basarme para realizar el analisis fue una busqueda en internet, principalmente use la web de kaggle.com\n",
    "##### Aqui obtuve el Dataset principal en el que he pasado este EDA: https://www.kaggle.com/datasets/wonduk/mens-tennis-grand-slam-winner-dataset"
   ]
  },
  {
   "cell_type": "markdown",
   "metadata": {},
   "source": [
    "##### Las principales bibliotecas utilizadas han sido:"
   ]
  },
  {
   "cell_type": "code",
   "execution_count": 4,
   "metadata": {},
   "outputs": [],
   "source": [
    "# Para obtener informacion necesaria para completar el Dataset principal y hacer Webscraping:\n",
    "import lxml\n",
    "import requests\n",
    "import pandas as pd\n",
    "from bs4 import BeautifulSoup"
   ]
  },
  {
   "cell_type": "code",
   "execution_count": 3,
   "metadata": {},
   "outputs": [],
   "source": [
    "# Para la limpieza y el analisis de datos:\n",
    "import matplotlib.pyplot as plt\n",
    "import numpy as np\n",
    "import pandas as pd\n",
    "import seaborn as sns"
   ]
  },
  {
   "cell_type": "markdown",
   "metadata": {},
   "source": [
    "#### Una conseguido el Dataset principal y planteadas las hipotesis, comienzo con el trabajo de \"Data understanding\", haciendo una primera exploracion de datos y viendo que otras neceisdad voy a tener. "
   ]
  },
  {
   "cell_type": "code",
   "execution_count": null,
   "metadata": {},
   "outputs": [],
   "source": [
    "import pandas as pd\n",
    "df_majors = pd.read_csv('./data/Mens_Tennis_Grand_Slam_Winner.csv')"
   ]
  },
  {
   "cell_type": "markdown",
   "metadata": {},
   "source": [
    "#### Al empezar con el analisis inicial concluyo que necesito una serie de datos (2 columnas practicamente con un 80 % de nulos) que no tenia forma de conseguirlos con el material disponible, y me puse a investigar y hacer un Web scraping sobre la web de la ATP (https://www.atptour.com/es) para conseguir todo los datos relativos al ranking ATP de cada uno de los jugadores entre los años 1973 y 2919."
   ]
  },
  {
   "cell_type": "code",
   "execution_count": null,
   "metadata": {},
   "outputs": [],
   "source": [
    "url = 'https://www.atptour.com/es/rankings/singles?RankRange=1-5000&Region=all&DateWeek=1973-09-26'\n",
    "response = requests.get(url)\n",
    "response"
   ]
  },
  {
   "cell_type": "code",
   "execution_count": null,
   "metadata": {},
   "outputs": [],
   "source": [
    "from fake_useragent import UserAgent                #ya que me niega el acceso, hay que ejecutar este código\n",
    "ua = UserAgent()\n",
    "headers = {'User-Agent': ua.random}\n",
    "response = requests.get(url, headers=headers)\n",
    "response"
   ]
  },
  {
   "cell_type": "code",
   "execution_count": null,
   "metadata": {},
   "outputs": [],
   "source": [
    "soup = BeautifulSoup(response.text, 'html.parser')"
   ]
  },
  {
   "cell_type": "code",
   "execution_count": null,
   "metadata": {},
   "outputs": [],
   "source": [
    "# Buscar la tabla\n",
    "dicc1 = {\"1973\":[]}\n",
    "tabla_principal = soup.find(\"table\", class_=\"mobile-table mega-table non-live\")\n",
    "# Verificar si se encontró la tabla\n",
    "if tabla_principal:\n",
    "    # Si se encontró la tabla, buscar todas las filas dentro de ella con la clase \"lower-row\"\n",
    "    filas = tabla_principal.find_all('tr', class_=\"lower-row\")\n",
    "    # Hacer algo con las filas encontradas\n",
    "    for fila in filas:\n",
    "        nombre = fila.find('a').find('span', class_='lastName').text.strip()\n",
    "        #print(nombre)\n",
    "        dicc1[\"1973\"].append(nombre)\n",
    "else:\n",
    "    print(\"No se encontró la tabla principal\")"
   ]
  },
  {
   "cell_type": "markdown",
   "metadata": {},
   "source": [
    "#### Este trabajo me llevo más de los esperado, no conseguia hacer un analisis en el  que cambiando el año, automaticamente me sacara los jugaodres de ese año, con la commplicacion añadida de que de un año a otro cambiaban totalmente las fechas (un años era 26-9-1987 y el siguiente 29-9-1987) y viendo que no avanzaba con una solucion que fuera mas o menos automatica tuve que hacerlo año a año, creando cada diccionario y luego juntandolo por decadas."
   ]
  },
  {
   "cell_type": "code",
   "execution_count": null,
   "metadata": {},
   "outputs": [],
   "source": [
    "df_atp_70 = pd.read_csv('./data/nombres_atp_70.csv')\n",
    "df_atp_80 = pd.read_csv('./data/nombres_atp_80.csv')\n",
    "df_atp_90 = pd.read_csv('./data/nombres_atp_90.csv')\n",
    "df_atp_2000 = pd.read_csv('./data/nombres_atp_2000.csv')\n",
    "df_atp_2010 = pd.read_csv('./data/nombres_atp_2010.csv')"
   ]
  },
  {
   "cell_type": "markdown",
   "metadata": {},
   "source": [
    "#### Cuando tuve todos los años del ranking ATP (1973-2019) hice una concatenacion con cada una de las decatas en un dataset, dando como resultado:"
   ]
  },
  {
   "cell_type": "code",
   "execution_count": null,
   "metadata": {},
   "outputs": [],
   "source": [
    "df_ATP_1973_to_2010 = pd.concat([df_atp_70, df_atp_80, df_atp_90, df_atp_2000, df_atp_2010], axis = 1)"
   ]
  },
  {
   "cell_type": "markdown",
   "metadata": {},
   "source": [
    "#### Con los 2 Dataset comence el \"Data cleaning\". Este fue un proceso menos tedioso que el anterior y mas automatico. \n",
    "#### Lo primero fue cambiar los nombres del Dataset principal, para a la hora de correguir los nulos que no diera problemas."
   ]
  },
  {
   "cell_type": "code",
   "execution_count": null,
   "metadata": {},
   "outputs": [],
   "source": [
    "# Funcion convertir nombres \n",
    "def convertir_nombre(nombre):\n",
    "    partes = nombre.split()\n",
    "    inicial = partes[0][0]  \n",
    "    apellido = partes[-1]  \n",
    "    return f'{inicial}. {apellido}'"
   ]
  },
  {
   "cell_type": "markdown",
   "metadata": {},
   "source": [
    "#### A continuacion corregi algunas incoherencias que existian como que hubieran varios torneos duplicados el premio monetario de cada torneo. En el primer caso elimine el torneo duplicado y cambie los nombres por los correcto y en el segundo sustitui todo los valores de cada torneo por los valores reales de cada premio."
   ]
  },
  {
   "cell_type": "code",
   "execution_count": null,
   "metadata": {},
   "outputs": [],
   "source": [
    "# Cambio de Australian Open (Dec / Jan) por Australian Open\n",
    "df_majors['TOURNAMENT'] = df_majors['TOURNAMENT'].str.replace(r'Australian Open \\(Dec\\)|Australian Open \\(Jan\\)', 'Australian Open', regex = True)\n",
    "df_majors['TOURNAMENT'] = df_majors['TOURNAMENT'].str.replace(r'French Open', 'Roland Garros', regex = True)"
   ]
  },
  {
   "cell_type": "code",
   "execution_count": null,
   "metadata": {},
   "outputs": [
    {
     "data": {
      "text/html": [
       "<div>\n",
       "<style scoped>\n",
       "    .dataframe tbody tr th:only-of-type {\n",
       "        vertical-align: middle;\n",
       "    }\n",
       "\n",
       "    .dataframe tbody tr th {\n",
       "        vertical-align: top;\n",
       "    }\n",
       "\n",
       "    .dataframe thead th {\n",
       "        text-align: right;\n",
       "    }\n",
       "</style>\n",
       "<table border=\"1\" class=\"dataframe\">\n",
       "  <thead>\n",
       "    <tr style=\"text-align: right;\">\n",
       "      <th></th>\n",
       "      <th>YEAR</th>\n",
       "      <th>TOURNAMENT</th>\n",
       "      <th>WINNER</th>\n",
       "      <th>RUNNER-UP</th>\n",
       "      <th>WINNER_NATIONALITY</th>\n",
       "      <th>WINNER_ATP_RANKING</th>\n",
       "      <th>RUNNER-UP_ATP_RANKING</th>\n",
       "      <th>WINNER_LEFT_OR_RIGHT_HANDED</th>\n",
       "      <th>TOURNAMENT_SURFACE</th>\n",
       "      <th>WINNER_PRIZE</th>\n",
       "    </tr>\n",
       "  </thead>\n",
       "  <tbody>\n",
       "    <tr>\n",
       "      <th>179</th>\n",
       "      <td>1977</td>\n",
       "      <td>Australian Open</td>\n",
       "      <td>V. Gerulaitis</td>\n",
       "      <td>J. Lloyd</td>\n",
       "      <td>American</td>\n",
       "      <td>NaN</td>\n",
       "      <td>NaN</td>\n",
       "      <td>right</td>\n",
       "      <td>Grass</td>\n",
       "      <td>1800000</td>\n",
       "    </tr>\n",
       "    <tr>\n",
       "      <th>180</th>\n",
       "      <td>1977</td>\n",
       "      <td>U.S. Open</td>\n",
       "      <td>G. Vilas</td>\n",
       "      <td>J. Connors</td>\n",
       "      <td>Argentine</td>\n",
       "      <td>NaN</td>\n",
       "      <td>NaN</td>\n",
       "      <td>left</td>\n",
       "      <td>Clay - outdoors</td>\n",
       "      <td>2600000</td>\n",
       "    </tr>\n",
       "    <tr>\n",
       "      <th>181</th>\n",
       "      <td>1977</td>\n",
       "      <td>Wimbledon</td>\n",
       "      <td>B. Borg</td>\n",
       "      <td>J. Connors</td>\n",
       "      <td>Swedish</td>\n",
       "      <td>NaN</td>\n",
       "      <td>NaN</td>\n",
       "      <td>right</td>\n",
       "      <td>Grass / Outdoor</td>\n",
       "      <td>2400000</td>\n",
       "    </tr>\n",
       "    <tr>\n",
       "      <th>182</th>\n",
       "      <td>1977</td>\n",
       "      <td>Roland Garros</td>\n",
       "      <td>G. Vilas</td>\n",
       "      <td>B. Gottfried</td>\n",
       "      <td>Argentine</td>\n",
       "      <td>NaN</td>\n",
       "      <td>NaN</td>\n",
       "      <td>left</td>\n",
       "      <td>Clay</td>\n",
       "      <td>2496000</td>\n",
       "    </tr>\n",
       "    <tr>\n",
       "      <th>183</th>\n",
       "      <td>1977</td>\n",
       "      <td>Australian Open</td>\n",
       "      <td>R. Tanner</td>\n",
       "      <td>G. Vilas</td>\n",
       "      <td>American</td>\n",
       "      <td>NaN</td>\n",
       "      <td>NaN</td>\n",
       "      <td>left</td>\n",
       "      <td>Grass</td>\n",
       "      <td>1800000</td>\n",
       "    </tr>\n",
       "  </tbody>\n",
       "</table>\n",
       "</div>"
      ],
      "text/plain": [
       "     YEAR       TOURNAMENT         WINNER     RUNNER-UP WINNER_NATIONALITY  \\\n",
       "179  1977  Australian Open  V. Gerulaitis      J. Lloyd           American   \n",
       "180  1977        U.S. Open       G. Vilas    J. Connors          Argentine   \n",
       "181  1977        Wimbledon        B. Borg    J. Connors            Swedish   \n",
       "182  1977    Roland Garros       G. Vilas  B. Gottfried          Argentine   \n",
       "183  1977  Australian Open      R. Tanner      G. Vilas           American   \n",
       "\n",
       "     WINNER_ATP_RANKING  RUNNER-UP_ATP_RANKING WINNER_LEFT_OR_RIGHT_HANDED  \\\n",
       "179                 NaN                    NaN                       right   \n",
       "180                 NaN                    NaN                        left   \n",
       "181                 NaN                    NaN                       right   \n",
       "182                 NaN                    NaN                        left   \n",
       "183                 NaN                    NaN                        left   \n",
       "\n",
       "    TOURNAMENT_SURFACE  WINNER_PRIZE  \n",
       "179              Grass       1800000  \n",
       "180    Clay - outdoors       2600000  \n",
       "181    Grass / Outdoor       2400000  \n",
       "182               Clay       2496000  \n",
       "183              Grass       1800000  "
      ]
     },
     "metadata": {},
     "output_type": "display_data"
    }
   ],
   "source": [
    "# Año 1977 hay un error, 2 Australian Open, \n",
    "df_majors[df_majors['YEAR'] == 1977]"
   ]
  },
  {
   "cell_type": "code",
   "execution_count": null,
   "metadata": {},
   "outputs": [],
   "source": [
    "# Nuevos valores para columna \"WINNER_PRIZE\" con los valores reales\n",
    "premios_reales = {\n",
    "    'Australian Open': 1800000,\n",
    "    'Roland Garros': 2496000,  \n",
    "    'U.S. Open': 2600000,\n",
    "    'Wimbledon': 2400000\n",
    "}"
   ]
  },
  {
   "cell_type": "code",
   "execution_count": null,
   "metadata": {},
   "outputs": [],
   "source": [
    "# Función para actualizar los valores de 'WINNER_PRIZE' basándose en el torneo\n",
    "def actualizacion_precios(row):\n",
    "    if row['TOURNAMENT'] in premios_reales:\n",
    "        return premios_reales[row['TOURNAMENT']]\n",
    "    else:\n",
    "        return row['WINNER_PRIZE']"
   ]
  },
  {
   "cell_type": "markdown",
   "metadata": {},
   "source": [
    "#### Con la limpieza del primero, realice el mismo proceso con el segundo. Aqui simplemente me elimie las filas y que no necesitaba y pase la columna de horizontal a vertical, para una mejor lectura y tratado posterior de los datos."
   ]
  },
  {
   "cell_type": "code",
   "execution_count": null,
   "metadata": {},
   "outputs": [
    {
     "data": {
      "text/html": [
       "<div>\n",
       "<style scoped>\n",
       "    .dataframe tbody tr th:only-of-type {\n",
       "        vertical-align: middle;\n",
       "    }\n",
       "\n",
       "    .dataframe tbody tr th {\n",
       "        vertical-align: top;\n",
       "    }\n",
       "\n",
       "    .dataframe thead th {\n",
       "        text-align: right;\n",
       "    }\n",
       "</style>\n",
       "<table border=\"1\" class=\"dataframe\">\n",
       "  <thead>\n",
       "    <tr style=\"text-align: right;\">\n",
       "      <th></th>\n",
       "      <th>Posicion</th>\n",
       "      <th>YEAR</th>\n",
       "      <th>Player</th>\n",
       "    </tr>\n",
       "  </thead>\n",
       "  <tbody>\n",
       "    <tr>\n",
       "      <th>0</th>\n",
       "      <td>1</td>\n",
       "      <td>1973</td>\n",
       "      <td>I. Nastase</td>\n",
       "    </tr>\n",
       "    <tr>\n",
       "      <th>1</th>\n",
       "      <td>2</td>\n",
       "      <td>1973</td>\n",
       "      <td>J. Newcombe</td>\n",
       "    </tr>\n",
       "    <tr>\n",
       "      <th>2</th>\n",
       "      <td>3</td>\n",
       "      <td>1973</td>\n",
       "      <td>M. Orantes</td>\n",
       "    </tr>\n",
       "    <tr>\n",
       "      <th>3</th>\n",
       "      <td>4</td>\n",
       "      <td>1973</td>\n",
       "      <td>S. Smith</td>\n",
       "    </tr>\n",
       "    <tr>\n",
       "      <th>4</th>\n",
       "      <td>5</td>\n",
       "      <td>1973</td>\n",
       "      <td>J. Connors</td>\n",
       "    </tr>\n",
       "    <tr>\n",
       "      <th>...</th>\n",
       "      <td>...</td>\n",
       "      <td>...</td>\n",
       "      <td>...</td>\n",
       "    </tr>\n",
       "    <tr>\n",
       "      <th>4695</th>\n",
       "      <td>96</td>\n",
       "      <td>2019</td>\n",
       "      <td>C. Moutet</td>\n",
       "    </tr>\n",
       "    <tr>\n",
       "      <th>4696</th>\n",
       "      <td>97</td>\n",
       "      <td>2019</td>\n",
       "      <td>B. Klahn</td>\n",
       "    </tr>\n",
       "    <tr>\n",
       "      <th>4697</th>\n",
       "      <td>98</td>\n",
       "      <td>2019</td>\n",
       "      <td>E. Gerasimov</td>\n",
       "    </tr>\n",
       "    <tr>\n",
       "      <th>4698</th>\n",
       "      <td>99</td>\n",
       "      <td>2019</td>\n",
       "      <td>J. Munar</td>\n",
       "    </tr>\n",
       "    <tr>\n",
       "      <th>4699</th>\n",
       "      <td>100</td>\n",
       "      <td>2019</td>\n",
       "      <td>L. Mayer</td>\n",
       "    </tr>\n",
       "  </tbody>\n",
       "</table>\n",
       "<p>4700 rows × 3 columns</p>\n",
       "</div>"
      ],
      "text/plain": [
       "      Posicion  YEAR        Player\n",
       "0            1  1973    I. Nastase\n",
       "1            2  1973   J. Newcombe\n",
       "2            3  1973    M. Orantes\n",
       "3            4  1973      S. Smith\n",
       "4            5  1973    J. Connors\n",
       "...        ...   ...           ...\n",
       "4695        96  2019     C. Moutet\n",
       "4696        97  2019      B. Klahn\n",
       "4697        98  2019  E. Gerasimov\n",
       "4698        99  2019      J. Munar\n",
       "4699       100  2019      L. Mayer\n",
       "\n",
       "[4700 rows x 3 columns]"
      ]
     },
     "metadata": {},
     "output_type": "display_data"
    }
   ],
   "source": [
    "# Paso a vertical \n",
    "rankings_long = df_ATP_1973_to_2010.melt(id_vars = ['Posicion'], var_name = 'YEAR', value_name = 'Player')\n",
    "rankings_long['YEAR'] = rankings_long['YEAR'].astype(int) "
   ]
  },
  {
   "cell_type": "markdown",
   "metadata": {},
   "source": [
    "#### Para terminar con la limpieza y dejar los datos preparados por el analisis, sustitui todos los nulos de las columnas del ranking ATP tanto de los finalistas como de los campeones de cada uno de los torneos."
   ]
  },
  {
   "cell_type": "code",
   "execution_count": null,
   "metadata": {},
   "outputs": [],
   "source": [
    "# Función para rellenar los rankings\n",
    "def actualizacion_ranking(row):\n",
    "    year = row['YEAR']\n",
    "    if pd.isna(row['WINNER_ATP_RANKING']) and (year, row['WINNER']) in ranking_dict:\n",
    "        row['WINNER_ATP_RANKING'] = ranking_dict[(year, row['WINNER'])]\n",
    "    if pd.isna(row['RUNNER-UP_ATP_RANKING']) and (year, row['RUNNER-UP']) in ranking_dict:\n",
    "        row['RUNNER-UP_ATP_RANKING'] = ranking_dict[(year, row['RUNNER-UP'])]\n",
    "    return row"
   ]
  },
  {
   "cell_type": "markdown",
   "metadata": {},
   "source": [
    "#### En este punto me encontre con un nuevo problema, en el dataset principal tenia datos desde 1950 y en la ATP, datos registrados existen a partir de 1973, por lo tengo no tenia forma de consegir solucionar esos nulos y los elimine.\n",
    "#### Ademas tuve que cambiar manualmente algunos datos que dieron error al ser nombres compuestos o no aparecer en los registros. "
   ]
  },
  {
   "cell_type": "code",
   "execution_count": null,
   "metadata": {},
   "outputs": [
    {
     "name": "stdout",
     "output_type": "stream",
     "text": [
      "El año más antiguo en df_majors ahora es: 1973\n"
     ]
    }
   ],
   "source": [
    "# Elimino filas anteriores a 1973 (ya que no hay datos respecto al ranking ATP)\n",
    "df_majors = df_majors[df_majors['YEAR'] >= 1973]\n",
    "\n",
    "print(\"El año más antiguo en df_majors ahora es:\", df_majors['YEAR'].min())"
   ]
  },
  {
   "cell_type": "code",
   "execution_count": null,
   "metadata": {},
   "outputs": [],
   "source": [
    "# Cambio manual de nulos (ha habido problemas de lectura por nombres raros)\n",
    "df_majors.at[2, 'WINNER_ATP_RANKING'] = 3.0\n",
    "df_majors.at[83, 'WINNER_ATP_RANKING'] = 10.0\n",
    "df_majors.at[135, 'RUNNER-UP_ATP_RANKING'] = 13.0\n",
    "df_majors.at[144, 'RUNNER-UP_ATP_RANKING'] = 9.0\n",
    "df_majors.at[157, 'RUNNER-UP_ATP_RANKING'] = 51.0\n",
    "df_majors.at[163, 'RUNNER-UP_ATP_RANKING'] = 108.0\n",
    "df_majors.at[174, 'RUNNER-UP_ATP_RANKING'] = 16.0\n",
    "df_majors.at[175, 'RUNNER-UP_ATP_RANKING'] = 114.0\n",
    "df_majors.at[185, 'RUNNER-UP_ATP_RANKING'] = 10.0\n",
    "df_majors.at[186, 'RUNNER-UP_ATP_RANKING'] = 10.0"
   ]
  },
  {
   "cell_type": "markdown",
   "metadata": {},
   "source": [
    "#### Con los datasets limpios y los datos preparados para ser analizados me puse con el analisis de las hipotesis y los resultados obtenidos para finalmente obtener una serie de conclusiones."
   ]
  },
  {
   "cell_type": "code",
   "execution_count": null,
   "metadata": {},
   "outputs": [],
   "source": [
    "# Hipotesis 1 - Los ganadores son siempre Top 10\n",
    "\n",
    "# Media ATP de ganadores de cada torneo\n",
    "ganadores_torneos = df_majors.groupby('TOURNAMENT')['WINNER_ATP_RANKING'].mean().round(1)\n",
    "\n",
    "# Agrupa por 'TOURNAMENT' y obtiene todos los rankings ATP de los ganadores\n",
    "rankings_por_torneo = df_majors.groupby('TOURNAMENT')['WINNER_ATP_RANKING'].apply(list)\n",
    "\n",
    "# Medias de ranking\n",
    "medias_torneos = {\n",
    "    'Australian Open': 4.7,\n",
    "    'Roland Garros': 3.1,\n",
    "    'U.S. Open': 2.4,\n",
    "    'Wimbledon': 2.6\n",
    "}\n",
    "\n",
    "colors = {\n",
    "    'Australian Open': 'darkblue',\n",
    "    'Roland Garros': 'saddlebrown',\n",
    "    'Wimbledon': 'green',\n",
    "    'U.S. Open': 'teal'\n",
    "}\n",
    "\n",
    "#  Ordenar por valores\n",
    "orden_medias = dict(sorted(medias_torneos.items(), key = lambda item: item[1], reverse = True))\n",
    "\n",
    "plt.figure(figsize = (10, 6))\n",
    "\n",
    "bars = plt.bar(orden_medias.keys(), orden_medias.values(), color=[colors[t] for t in orden_medias.keys()])\n",
    "\n",
    "# Linea indica top 10\n",
    "plt.axhline(y = 10, color = 'r', linestyle = '--')\n",
    "\n",
    "plt.xlabel('Torneos')\n",
    "plt.ylabel('Media ranking')\n",
    "plt.title('Media ranking ATP de cada Grand slam')\n",
    "\n",
    "# Añadir valores\n",
    "for bar in bars:\n",
    "    yval = bar.get_height()\n",
    "    plt.text(bar.get_x() + bar.get_width()/2, yval, round(yval, 1), ha = \"center\", va = 'bottom')  \n",
    "\n",
    "ax = plt.gca() \n",
    "ax.spines['top'].set_visible(False)  \n",
    "ax.spines['right'].set_visible(False)\n",
    "\n",
    "plt.show()\n"
   ]
  },
  {
   "cell_type": "code",
   "execution_count": null,
   "metadata": {},
   "outputs": [],
   "source": [
    "# Hipotesis 2 - De esos Top 10, repiten victorias en esos torneo os no hay una correlacion\n",
    "\n",
    "# DataFrame con los ganadores y el número de veces que han ganado cada torneo\n",
    "numero_victorias = df_majors.groupby(['TOURNAMENT', 'WINNER']).size().reset_index(name = 'COUNTS')\n",
    "\n",
    "# Jugadores han ganado un torneo más de una vez\n",
    "victorias_repetidas = numero_victorias[numero_victorias['COUNTS'] > 1]\n",
    "\n",
    "# Número total de torneos repetidos ganados por cada jugador\n",
    "total_victorias_repetidas = victorias_repetidas.groupby('WINNER')['COUNTS'].sum().reset_index()\n",
    "\n",
    "# Ordenar los jugadores por el número total de torneos repetidos ganados\n",
    "top_victorias_repetidas = total_victorias_repetidas.sort_values(by = 'COUNTS', ascending = False).head(10)\n",
    "\n",
    "# Solo top 10 jugadores\n",
    "df_top_victorias = df_majors[df_majors['WINNER'].isin(top_victorias_repetidas['WINNER'])]\n",
    "\n",
    "# Figura subgráficos array 2x2\n",
    "fig, axes = plt.subplots(nrows = 2, ncols = 2, figsize = (20, 20), constrained_layout = True)\n",
    "\n",
    "# Torneos únicos\n",
    "torneos = df_majors['TOURNAMENT'].unique()[:4]  \n",
    "\n",
    "# Gráfico \n",
    "for ax, torneos in zip(axes.flatten(), torneos):\n",
    "\n",
    "    # Jugadores en los 10 primeros\n",
    "    df_torneos = df_top_victorias[df_top_victorias['TOURNAMENT'] == torneos]\n",
    "\n",
    "    # Victorias por cada uno y ordena de mayor a menor\n",
    "    victorias_orden = df_torneos['WINNER'].value_counts().index\n",
    "    \n",
    "    # Countplot\n",
    "    sns.countplot(x = 'WINNER', data = df_torneos, ax = ax, order = victorias_orden)\n",
    "    \n",
    "    # Etiquetas\n",
    "    ax.set_title(f'Victorias en {torneos}')\n",
    "    ax.set_xlabel('Ganador')\n",
    "    ax.set_ylabel('Cantidad de Victorias')\n",
    "\n",
    "    ax.set_xticklabels(victorias_orden, rotation=45)\n",
    "\n",
    "    # Valores \n",
    "    for p in ax.patches:\n",
    "        ax.annotate(format(p.get_height(), '.0f'), \n",
    "                    (p.get_x() + p.get_width() / 2., p.get_height()), \n",
    "                    ha = 'center', va = 'center', \n",
    "                    xytext = (0, 9), \n",
    "                    textcoords = 'offset points')\n",
    "        \n",
    "    # Quitar las líneas \n",
    "    ax.spines['top'].set_visible(False)\n",
    "    ax.spines['right'].set_visible(False)\n",
    "\n",
    "plt.tight_layout()\n",
    "plt.show()"
   ]
  },
  {
   "cell_type": "markdown",
   "metadata": {},
   "source": [
    "#### Para finalizar el trabajo y poder realizar la presentacion, hice una presentacion en Powerpoint con todas las hipotesis planteadas y los graficos en los que me apoyo para afirmar o no esas hipotesis. "
   ]
  },
  {
   "cell_type": "markdown",
   "metadata": {},
   "source": []
  }
 ],
 "metadata": {
  "kernelspec": {
   "display_name": "base",
   "language": "python",
   "name": "python3"
  },
  "language_info": {
   "codemirror_mode": {
    "name": "ipython",
    "version": 3
   },
   "file_extension": ".py",
   "mimetype": "text/x-python",
   "name": "python",
   "nbconvert_exporter": "python",
   "pygments_lexer": "ipython3",
   "version": "3.11.5"
  }
 },
 "nbformat": 4,
 "nbformat_minor": 2
}
