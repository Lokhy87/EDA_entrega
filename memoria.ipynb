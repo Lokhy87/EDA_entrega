{
 "cells": [
  {
   "cell_type": "markdown",
   "metadata": {},
   "source": [
    "# MEMORIA PROYECTO EDA - CAMPEONES DEL GRAND SLAM"
   ]
  },
  {
   "cell_type": "markdown",
   "metadata": {},
   "source": [
    "#### El proyecto que presento consiste en un analisis para comprobar una serie de hipotesis basadas en los campeones masculinos de los 4 grandes torneos de la ATP, los Grand Slams, Australian Open, US Open, Roland Garros y Wimbledon "
   ]
  },
  {
   "cell_type": "markdown",
   "metadata": {},
   "source": [
    "##### Lo primero que lleve a cabo para encontrar los datos en los que basarme para realizar el analisis fue una busqueda en internet, principalmente use la web de kaggle.com\n",
    "##### Aqui obtuve el Dataset principal en el que he pasado este EDA: https://www.kaggle.com/datasets/wonduk/mens-tennis-grand-slam-winner-dataset"
   ]
  },
  {
   "cell_type": "markdown",
   "metadata": {},
   "source": [
    "##### Las principales bibliotecas utilizadas han sido:"
   ]
  },
  {
   "cell_type": "code",
   "execution_count": 4,
   "metadata": {},
   "outputs": [],
   "source": [
    "# Para obtener informacion necesaria para completar el Dataset principal y hacer Webscraping:\n",
    "import lxml\n",
    "import requests\n",
    "import pandas as pd\n",
    "from bs4 import BeautifulSoup"
   ]
  },
  {
   "cell_type": "code",
   "execution_count": 3,
   "metadata": {},
   "outputs": [],
   "source": [
    "# Para la limpieza y el analisis de datos:\n",
    "import matplotlib.pyplot as plt\n",
    "import numpy as np\n",
    "import pandas as pd\n",
    "import seaborn as sns"
   ]
  },
  {
   "cell_type": "markdown",
   "metadata": {},
   "source": [
    "#### Una conseguido el Dataset principal y planteadas las hipotesis, comienzo con el trabajo de analizar que tengo en el y que neceisto para llevar a cabo mi analisis en profundidad para con los datos poder responnder a las hipotesis."
   ]
  },
  {
   "cell_type": "code",
   "execution_count": null,
   "metadata": {},
   "outputs": [],
   "source": [
    "import pandas as pd\n",
    "df_majors = pd.read_csv('./data/Mens_Tennis_Grand_Slam_Winner.csv')"
   ]
  },
  {
   "cell_type": "markdown",
   "metadata": {},
   "source": []
  },
  {
   "cell_type": "markdown",
   "metadata": {},
   "source": []
  },
  {
   "cell_type": "code",
   "execution_count": null,
   "metadata": {},
   "outputs": [],
   "source": []
  },
  {
   "cell_type": "markdown",
   "metadata": {},
   "source": []
  }
 ],
 "metadata": {
  "kernelspec": {
   "display_name": "base",
   "language": "python",
   "name": "python3"
  },
  "language_info": {
   "codemirror_mode": {
    "name": "ipython",
    "version": 3
   },
   "file_extension": ".py",
   "mimetype": "text/x-python",
   "name": "python",
   "nbconvert_exporter": "python",
   "pygments_lexer": "ipython3",
   "version": "3.11.5"
  }
 },
 "nbformat": 4,
 "nbformat_minor": 2
}
